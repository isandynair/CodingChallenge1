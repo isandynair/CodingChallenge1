{
  "nbformat": 4,
  "nbformat_minor": 0,
  "metadata": {
    "colab": {
      "name": "Assignment 3.ipynb",
      "version": "0.3.2",
      "provenance": [],
      "include_colab_link": true
    },
    "kernelspec": {
      "name": "python3",
      "display_name": "Python 3"
    }
  },
  "cells": [
    {
      "cell_type": "markdown",
      "metadata": {
        "id": "view-in-github",
        "colab_type": "text"
      },
      "source": [
        "<a href=\"https://colab.research.google.com/github/sandycancode/CodingChallenge1/blob/master/Assignment_3.ipynb\" target=\"_parent\"><img src=\"https://colab.research.google.com/assets/colab-badge.svg\" alt=\"Open In Colab\"/></a>"
      ]
    },
    {
      "cell_type": "markdown",
      "metadata": {
        "id": "Ei2v7QV4DIzF",
        "colab_type": "text"
      },
      "source": [
        "**Problem 1**"
      ]
    },
    {
      "cell_type": "code",
      "metadata": {
        "id": "ZbPlJxys2dSm",
        "colab_type": "code",
        "outputId": "59a86cb0-edeb-486a-878e-52adc31a05a5",
        "colab": {
          "base_uri": "https://localhost:8080/",
          "height": 35
        }
      },
      "source": [
        "import numpy as np\n",
        "arr = np.array([0,1,2,3,4,5,6,7,8,9])\n",
        "print(np.where(arr%2==1, -1, arr))"
      ],
      "execution_count": 0,
      "outputs": [
        {
          "output_type": "stream",
          "text": [
            "[ 0 -1  2 -1  4 -1  6 -1  8 -1]\n"
          ],
          "name": "stdout"
        }
      ]
    },
    {
      "cell_type": "markdown",
      "metadata": {
        "id": "pzit5IeZDPTG",
        "colab_type": "text"
      },
      "source": [
        "**Problem 2**"
      ]
    },
    {
      "cell_type": "code",
      "metadata": {
        "id": "yoRPyYg59Z1S",
        "colab_type": "code",
        "outputId": "69487437-7ff2-4816-c338-a2210bc21e01",
        "colab": {
          "base_uri": "https://localhost:8080/",
          "height": 52
        }
      },
      "source": [
        "import numpy as np\n",
        "arr = np.arange(10).reshape(2,5)\n",
        "arr\n"
      ],
      "execution_count": 0,
      "outputs": [
        {
          "output_type": "execute_result",
          "data": {
            "text/plain": [
              "array([[0, 1, 2, 3, 4],\n",
              "       [5, 6, 7, 8, 9]])"
            ]
          },
          "metadata": {
            "tags": []
          },
          "execution_count": 3
        }
      ]
    },
    {
      "cell_type": "markdown",
      "metadata": {
        "id": "yuodKkDKDW8T",
        "colab_type": "text"
      },
      "source": [
        "**Problem 3**"
      ]
    },
    {
      "cell_type": "code",
      "metadata": {
        "id": "41kXJj6g_ZJA",
        "colab_type": "code",
        "outputId": "000b5a98-24e4-43dd-eaea-4e64bbfbfc8a",
        "colab": {
          "base_uri": "https://localhost:8080/",
          "height": 35
        }
      },
      "source": [
        "import numpy as np\n",
        "arr = np.array([1,2,3])\n",
        "np.concatenate((np.repeat(arr,3),np.tile(arr,3)))"
      ],
      "execution_count": 0,
      "outputs": [
        {
          "output_type": "execute_result",
          "data": {
            "text/plain": [
              "array([1, 1, 1, 2, 2, 2, 3, 3, 3, 1, 2, 3, 1, 2, 3, 1, 2, 3])"
            ]
          },
          "metadata": {
            "tags": []
          },
          "execution_count": 27
        }
      ]
    },
    {
      "cell_type": "markdown",
      "metadata": {
        "id": "XnadQH3SFAzm",
        "colab_type": "text"
      },
      "source": [
        "**Problem 4**"
      ]
    },
    {
      "cell_type": "code",
      "metadata": {
        "id": "wUgkYbjUEMgU",
        "colab_type": "code",
        "outputId": "60a063cf-c726-443e-92f6-76a037af63d2",
        "colab": {
          "base_uri": "https://localhost:8080/",
          "height": 35
        }
      },
      "source": [
        "import numpy as np\n",
        "a = np.array([1,2,3,2,3,4,3,4,5,6])\n",
        "b = np.array([7,2,10,2,7,4,9,4,9,8])\n",
        "np.intersect1d(a,b)"
      ],
      "execution_count": 0,
      "outputs": [
        {
          "output_type": "execute_result",
          "data": {
            "text/plain": [
              "array([2, 4])"
            ]
          },
          "metadata": {
            "tags": []
          },
          "execution_count": 28
        }
      ]
    },
    {
      "cell_type": "markdown",
      "metadata": {
        "id": "qpoCsrB3NwFf",
        "colab_type": "text"
      },
      "source": [
        "**Problem 5**"
      ]
    },
    {
      "cell_type": "code",
      "metadata": {
        "id": "Un-fH3Y4N0uf",
        "colab_type": "code",
        "outputId": "f0e8d508-f684-4852-8b1c-107e7ba5649e",
        "colab": {
          "base_uri": "https://localhost:8080/",
          "height": 35
        }
      },
      "source": [
        "import numpy as np\n",
        "a = np.array([1,2,3,2,3,4,3,4,5,6])\n",
        "b = np.array([7,2,10,2,7,4,9,4,9,8])\n",
        "np.where(a==b)"
      ],
      "execution_count": 0,
      "outputs": [
        {
          "output_type": "execute_result",
          "data": {
            "text/plain": [
              "(array([1, 3, 5, 7]),)"
            ]
          },
          "metadata": {
            "tags": []
          },
          "execution_count": 3
        }
      ]
    },
    {
      "cell_type": "markdown",
      "metadata": {
        "id": "59tIxFxkO6z6",
        "colab_type": "text"
      },
      "source": [
        "**Problem 6**"
      ]
    },
    {
      "cell_type": "code",
      "metadata": {
        "id": "EYgGySOSO9yX",
        "colab_type": "code",
        "outputId": "8388da69-5e2a-424b-b64f-b1540c66251d",
        "colab": {
          "base_uri": "https://localhost:8080/",
          "height": 104
        }
      },
      "source": [
        "import numpy as np\n",
        "5 * np.random.random_sample((5, 3)) + 5"
      ],
      "execution_count": 0,
      "outputs": [
        {
          "output_type": "execute_result",
          "data": {
            "text/plain": [
              "array([[6.17820352, 7.15456359, 9.58391835],\n",
              "       [5.71413865, 6.38803935, 7.74265941],\n",
              "       [9.21080484, 6.65698472, 7.59302277],\n",
              "       [7.42482711, 8.43480418, 6.8226245 ],\n",
              "       [5.89774903, 5.13907131, 9.91470558]])"
            ]
          },
          "metadata": {
            "tags": []
          },
          "execution_count": 7
        }
      ]
    },
    {
      "cell_type": "markdown",
      "metadata": {
        "id": "3D737r-cV04D",
        "colab_type": "text"
      },
      "source": [
        "**Problem 7**"
      ]
    },
    {
      "cell_type": "code",
      "metadata": {
        "id": "gD988ajyXNFr",
        "colab_type": "code",
        "outputId": "66f65f80-8086-4c88-b970-c39bb5dc2f0e",
        "colab": {
          "base_uri": "https://localhost:8080/",
          "height": 35
        }
      },
      "source": [
        "import numpy as np\n",
        "np.set_printoptions(threshold=3)\n",
        "arr = np.arange(15)\n",
        "arr\n"
      ],
      "execution_count": 0,
      "outputs": [
        {
          "output_type": "execute_result",
          "data": {
            "text/plain": [
              "array([ 0,  1,  2, ..., 12, 13, 14])"
            ]
          },
          "metadata": {
            "tags": []
          },
          "execution_count": 6
        }
      ]
    },
    {
      "cell_type": "markdown",
      "metadata": {
        "id": "Ff77mYl4qxxc",
        "colab_type": "text"
      },
      "source": [
        "**Problem 8**"
      ]
    },
    {
      "cell_type": "code",
      "metadata": {
        "id": "gG9qHp1sqwSu",
        "colab_type": "code",
        "outputId": "7317fd2d-12f3-4e5e-b491-e0878c5d5a8e",
        "colab": {
          "base_uri": "https://localhost:8080/",
          "height": 69
        }
      },
      "source": [
        "import numpy as np\n",
        "np.random.seed(100)\n",
        "rand_arr = np.random.random([3,3])/1e3\n",
        "np.set_printoptions(suppress=True, precision=6)\n",
        "rand_arr"
      ],
      "execution_count": 0,
      "outputs": [
        {
          "output_type": "execute_result",
          "data": {
            "text/plain": [
              "array([[0.000543, 0.000278, 0.000425],\n",
              "       [0.000845, 0.000005, 0.000122],\n",
              "       [0.000671, 0.000826, 0.000137]])"
            ]
          },
          "metadata": {
            "tags": []
          },
          "execution_count": 73
        }
      ]
    },
    {
      "cell_type": "markdown",
      "metadata": {
        "id": "QwbJP2leZ0w0",
        "colab_type": "text"
      },
      "source": [
        "**Problem 9**"
      ]
    },
    {
      "cell_type": "code",
      "metadata": {
        "id": "4b1URI2xZ3ak",
        "colab_type": "code",
        "outputId": "da69b5ca-2414-4408-e252-b9fcb4b724a5",
        "colab": {
          "base_uri": "https://localhost:8080/",
          "height": 69
        }
      },
      "source": [
        "import numpy as np\n",
        "arr = np.arange(9).reshape(3,3)\n",
        "arr[:,[0, 1]] = arr[:,[1, 0]]\n",
        "arr"
      ],
      "execution_count": 0,
      "outputs": [
        {
          "output_type": "execute_result",
          "data": {
            "text/plain": [
              "array([[1, 0, 2],\n",
              "       [4, 3, 5],\n",
              "       [7, 6, 8]])"
            ]
          },
          "metadata": {
            "tags": []
          },
          "execution_count": 62
        }
      ]
    },
    {
      "cell_type": "markdown",
      "metadata": {
        "id": "4qAM474Fc55H",
        "colab_type": "text"
      },
      "source": [
        "**Problem 10**"
      ]
    },
    {
      "cell_type": "code",
      "metadata": {
        "id": "VuEl7Xyvc-UF",
        "colab_type": "code",
        "outputId": "b07c9138-4e63-4d34-d59b-f6ff727d57ac",
        "colab": {
          "base_uri": "https://localhost:8080/",
          "height": 69
        }
      },
      "source": [
        "import numpy as np\n",
        "arr = np.arange(9).reshape(3,3)\n",
        "arr[[0, 1],:] = arr[[1, 0],:]\n",
        "arr"
      ],
      "execution_count": 0,
      "outputs": [
        {
          "output_type": "execute_result",
          "data": {
            "text/plain": [
              "array([[3, 4, 5],\n",
              "       [0, 1, 2],\n",
              "       [6, 7, 8]])"
            ]
          },
          "metadata": {
            "tags": []
          },
          "execution_count": 63
        }
      ]
    }
  ]
}